{
  "cells": [
    {
      "cell_type": "markdown",
      "id": "1e23aafe-b626-4689-941c-63061ff764d5",
      "metadata": {
        "id": "1e23aafe-b626-4689-941c-63061ff764d5"
      },
      "source": [
        "### NumPy Project: Employee Salary Analysis\n",
        "#### Objective:\n",
        "- Analyze employee salaries and find insights using NumPy."
      ]
    },
    {
      "cell_type": "code",
      "execution_count": null,
      "id": "59264551-e36b-4476-80f4-8f1aa7e2310c",
      "metadata": {
        "id": "59264551-e36b-4476-80f4-8f1aa7e2310c"
      },
      "outputs": [],
      "source": [
        "import numpy as np\n",
        "\n",
        "# Employee Salary Data (in thousands)\n",
        "salaries = np.array([50, 60, 75, 80, 90, 95, 100, 110, 120, 150, 200])\n"
      ]
    },
    {
      "cell_type": "markdown",
      "id": "b4f9830f-e071-4ad9-9a45-42e80a39420c",
      "metadata": {
        "id": "b4f9830f-e071-4ad9-9a45-42e80a39420c"
      },
      "source": [
        "#### Basic Analysis"
      ]
    },
    {
      "cell_type": "code",
      "execution_count": null,
      "id": "31c7a05b-463f-4dbf-a2f6-0e82967f6e53",
      "metadata": {
        "colab": {
          "base_uri": "https://localhost:8080/"
        },
        "id": "31c7a05b-463f-4dbf-a2f6-0e82967f6e53",
        "outputId": "ee15246e-d85e-43ed-9b97-f327048d03e7"
      },
      "outputs": [
        {
          "output_type": "stream",
          "name": "stdout",
          "text": [
            "Total Employees: 11\n",
            "Minimum Salary: 50\n",
            "Maximum Salary: 200\n",
            "Average Salary: 102.72727272727273\n",
            "Median Salary: 95.0\n"
          ]
        }
      ],
      "source": [
        "print(\"Total Employees:\", salaries.size)\n",
        "print(\"Minimum Salary:\", np.min(salaries))\n",
        "print(\"Maximum Salary:\", np.max(salaries))\n",
        "print(\"Average Salary:\", np.mean(salaries))\n",
        "print(\"Median Salary:\", np.median(salaries))\n"
      ]
    },
    {
      "cell_type": "markdown",
      "id": "3346a369-485c-4975-b415-369955816a37",
      "metadata": {
        "id": "3346a369-485c-4975-b415-369955816a37"
      },
      "source": [
        "- Minimum salary is 50,000, and  the  maximum  is 200,000.\n",
        "- The average salary is around 105,000.\n",
        "- The median salary helps avoid extreme value biases.\n"
      ]
    },
    {
      "cell_type": "markdown",
      "id": "3fd60a29-fd57-4c8e-9cc5-18760bd86650",
      "metadata": {
        "id": "3fd60a29-fd57-4c8e-9cc5-18760bd86650"
      },
      "source": [
        "#### Salary Distribution"
      ]
    },
    {
      "cell_type": "code",
      "execution_count": null,
      "id": "4d7c3d04-4b7b-4ab5-8a7d-026d7bae82eb",
      "metadata": {
        "colab": {
          "base_uri": "https://localhost:8080/"
        },
        "id": "4d7c3d04-4b7b-4ab5-8a7d-026d7bae82eb",
        "outputId": "417cd4e4-fd9b-4f7e-cfdb-10625953c99f"
      },
      "outputs": [
        {
          "output_type": "stream",
          "name": "stdout",
          "text": [
            "Salary Standard Deviation: 40.64\n",
            "Salary Variance: 1651.65\n"
          ]
        }
      ],
      "source": [
        "# Standard Deviation & Variance\n",
        "std_dev = np.std(salaries)\n",
        "variance = np.var(salaries)\n",
        "\n",
        "print(f\"Salary Standard Deviation: {std_dev:.2f}\")\n",
        "print(f\"Salary Variance: {variance:.2f}\")\n"
      ]
    },
    {
      "cell_type": "markdown",
      "id": "ee3176c3-0592-4d08-b920-029d552d5219",
      "metadata": {
        "id": "ee3176c3-0592-4d08-b920-029d552d5219"
      },
      "source": [
        "- A high standard deviation means salaries vary widely.\n",
        "- Variance quantifies this spread in numbers.\n"
      ]
    },
    {
      "cell_type": "markdown",
      "id": "8317b506-e144-4822-aa13-fc99bffa959c",
      "metadata": {
        "id": "8317b506-e144-4822-aa13-fc99bffa959c"
      },
      "source": [
        "#### Filtering Employees with High Salaries"
      ]
    },
    {
      "cell_type": "code",
      "execution_count": null,
      "id": "53c11ba6-7576-4bbd-8ec4-b00526d7ff3e",
      "metadata": {
        "colab": {
          "base_uri": "https://localhost:8080/"
        },
        "id": "53c11ba6-7576-4bbd-8ec4-b00526d7ff3e",
        "outputId": "9acc1865-77b4-46bf-c078-f928c210d518"
      },
      "outputs": [
        {
          "output_type": "stream",
          "name": "stdout",
          "text": [
            "Employees with salaries above 100,000: [110 120 150 200]\n"
          ]
        }
      ],
      "source": [
        "high_salary = salaries[salaries > 100]\n",
        "print(\"Employees with salaries above 100,000:\", high_salary)\n"
      ]
    },
    {
      "cell_type": "markdown",
      "id": "6d7cad11-defa-47f9-b4d0-ca6c441dfbec",
      "metadata": {
        "id": "6d7cad11-defa-47f9-b4d0-ca6c441dfbec"
      },
      "source": [
        "- We find employees earning more than 100K."
      ]
    },
    {
      "cell_type": "markdown",
      "id": "1ae3edba-e8bc-44a0-9459-585a24e6c1c2",
      "metadata": {
        "id": "1ae3edba-e8bc-44a0-9459-585a24e6c1c2"
      },
      "source": [
        "#### Salary Growth Over the Years"
      ]
    },
    {
      "cell_type": "code",
      "execution_count": null,
      "id": "79543709-42d9-4b60-a63c-1cec13291fa5",
      "metadata": {
        "colab": {
          "base_uri": "https://localhost:8080/"
        },
        "id": "79543709-42d9-4b60-a63c-1cec13291fa5",
        "outputId": "69ff153c-c064-499a-d645-0ecf9575ddaa"
      },
      "outputs": [
        {
          "output_type": "stream",
          "name": "stdout",
          "text": [
            "Projected Salaries after 5 years: [ 63.81  76.58  95.72 102.1  114.87 121.25 127.63 140.39 153.15 191.44\n",
            " 255.26]\n"
          ]
        }
      ],
      "source": [
        "# Simulated salary growth over 5 years (5% annual increase)\n",
        "years = 5\n",
        "future_salaries = salaries * (1.05 ** years)\n",
        "\n",
        "print(\"Projected Salaries after 5 years:\", np.round(future_salaries, 2))\n"
      ]
    },
    {
      "cell_type": "markdown",
      "id": "0d2cb52d-61a1-40f2-9ff1-5f68d577d818",
      "metadata": {
        "id": "0d2cb52d-61a1-40f2-9ff1-5f68d577d818"
      },
      "source": [
        "- Employee salaries grow by 5% each year.\n",
        "- Helps in financial planning.\n"
      ]
    },
    {
      "cell_type": "markdown",
      "id": "1abcbfc3-fdfa-4d41-b133-9cca92464255",
      "metadata": {
        "id": "1abcbfc3-fdfa-4d41-b133-9cca92464255"
      },
      "source": [
        " #### Final Project Summary\n",
        "\n",
        "- Metric\tValue\n",
        "- Minimum Salary\t50,000\n",
        "- Maximum Salary  200,000\n",
        "- Average Salary\t105,000\n",
        "- Median Salary\t95,000\n",
        "- Standard Deviation\tHigh\n",
        "- Future Salaries (5 yrs)\tProjected growth\n"
      ]
    },
    {
      "cell_type": "markdown",
      "id": "693d573a-9fa3-47ae-bfdc-7a4465c15293",
      "metadata": {
        "id": "693d573a-9fa3-47ae-bfdc-7a4465c15293"
      },
      "source": [
        "#### Business Impact\n",
        "- This analysis helps HR and finance teams:\n",
        "- Identify salary gaps and improve compensation policies.\n",
        "- Plan for future salary increments.\n",
        "- Compare industry trends and ensure employee satisfaction.\n"
      ]
    },
    {
      "cell_type": "markdown",
      "id": "b395c877-e636-411d-8141-409406e297e5",
      "metadata": {
        "id": "b395c877-e636-411d-8141-409406e297e5"
      },
      "source": [
        "#### Conclusion\n",
        "- NumPy is powerful for data analysis in various real-world applications like stock markets, weather monitoring, healthcare, e-commerce, and employee management."
      ]
    },
    {
      "cell_type": "code",
      "execution_count": null,
      "id": "54d5512d-1391-4715-bed6-e224583d285f",
      "metadata": {
        "colab": {
          "base_uri": "https://localhost:8080/"
        },
        "id": "54d5512d-1391-4715-bed6-e224583d285f",
        "outputId": "d352a2aa-4300-49ab-8bdc-3cbb42e0c191"
      },
      "outputs": [
        {
          "output_type": "stream",
          "name": "stdout",
          "text": [
            "Lowest salary: 50\n"
          ]
        }
      ],
      "source": [
        "lowest = np.min(salaries)\n",
        "print(\"Lowest salary:\", lowest)\n"
      ]
    },
    {
      "cell_type": "code",
      "source": [
        "second_highest = np.sort(salaries)[-2]\n",
        "print(\"Second highest salary:\", second_highest)\n"
      ],
      "metadata": {
        "colab": {
          "base_uri": "https://localhost:8080/"
        },
        "id": "rhdRhf0vAvdo",
        "outputId": "ad0f99fb-929a-40d8-a3c9-f440b31fd93b"
      },
      "id": "rhdRhf0vAvdo",
      "execution_count": null,
      "outputs": [
        {
          "output_type": "stream",
          "name": "stdout",
          "text": [
            "Second highest salary: 150\n"
          ]
        }
      ]
    },
    {
      "cell_type": "code",
      "source": [
        "top3 = np.sort(salaries)[-3:]\n",
        "print(\"Top 3 salaries:\", top3)\n"
      ],
      "metadata": {
        "colab": {
          "base_uri": "https://localhost:8080/"
        },
        "id": "t2tCMH_oCU5B",
        "outputId": "24a630a2-37c4-4e03-e530-b385455512e7"
      },
      "id": "t2tCMH_oCU5B",
      "execution_count": null,
      "outputs": [
        {
          "output_type": "stream",
          "name": "stdout",
          "text": [
            "Top 3 salaries: [120 150 200]\n"
          ]
        }
      ]
    }
  ],
  "metadata": {
    "kernelspec": {
      "display_name": "Python 3 (ipykernel)",
      "language": "python",
      "name": "python3"
    },
    "language_info": {
      "codemirror_mode": {
        "name": "ipython",
        "version": 3
      },
      "file_extension": ".py",
      "mimetype": "text/x-python",
      "name": "python",
      "nbconvert_exporter": "python",
      "pygments_lexer": "ipython3",
      "version": "3.12.6"
    },
    "colab": {
      "provenance": []
    }
  },
  "nbformat": 4,
  "nbformat_minor": 5
}